{
 "cells": [
  {
   "cell_type": "code",
   "execution_count": null,
   "metadata": {},
   "outputs": [],
   "source": [
    "import warnings\n",
    "warnings.filterwarnings('ignore')\n",
    "\n",
    "import glob\n",
    "import qvp\n",
    "import os\n",
    "import datetime"
   ]
  },
  {
   "cell_type": "code",
   "execution_count": null,
   "metadata": {},
   "outputs": [],
   "source": [
    "def datespan(start_date, end_date, delta=datetime.timedelta(days=1)):\n",
    "    \"\"\" Retrieves all dates between the start and end date. \"\"\"\n",
    "    current_date = start_date\n",
    "    while current_date < end_date:\n",
    "        yield current_date\n",
    "        current_date += delta\n",
    "        \n",
    "def qvp_daily_maker(start_date, end_date, config, datastream, fields):\n",
    "    start = datetime.datetime.strptime(start_date, '%Y%m%d')\n",
    "    stop = datetime.datetime.strptime(end_date, '%Y%m%d')\n",
    "    for date_time in datespan(start, stop, delta=datetime.timedelta(days=1)):\n",
    "        date = datetime.datetime.strftime(date_time, '%Y%m%d')\n",
    "        \n",
    "        files = glob.glob(\n",
    "            '/lustre/or-hydra/cades-arm/rjackson/sgp/'\n",
    "            + datastream + '/' + datastream + '.'\n",
    "            + date + '*', recursive=True)\n",
    "        files.sort()\n",
    "        if not files:\n",
    "            print(date + ' has no files. Moving to the next date.')\n",
    "            continue\n",
    "            \n",
    "        files.sort()\n",
    "        \n",
    "        a = qvp.qvp(files)\n",
    "        a.write(config=config,\n",
    "                file_directory='/lustre/or-hydra/cades-arm/proj-shared/sgp' + config + '.c1')\n",
    "        \n",
    "        del a\n",
    "        \n",
    "        file = ('/lustre/or-hydra/cades-arm/proj-shared/sgp'\n",
    "                + config + '.c1/sgp' + config + '.c1.'\n",
    "                + date + '.000000.nc')\n",
    "        \n",
    "        qvp.quicklooks_4panel(file=file, config=config, fields=fields,\n",
    "                              image_directory='/lustre/or-hydra/cades-arm/proj-shared/sgp' + config + '.c1.png')"
   ]
  },
  {
   "cell_type": "code",
   "execution_count": null,
   "metadata": {
    "scrolled": true
   },
   "outputs": [],
   "source": [
    "%%time\n",
    "qvp_daily_maker('20190403', '20190406', 'xsaprqvpI5', 'sgpadicmac2I5.c1',\n",
    "                ['corrected_reflectivity', 'corrected_differential_reflectivity',\n",
    "                 'corrected_specific_diff_phase', 'cross_correlation_ratio'])"
   ]
  }
 ],
 "metadata": {
  "kernelspec": {
   "display_name": "Python 3",
   "language": "python",
   "name": "python3"
  },
  "language_info": {
   "codemirror_mode": {
    "name": "ipython",
    "version": 3
   },
   "file_extension": ".py",
   "mimetype": "text/x-python",
   "name": "python",
   "nbconvert_exporter": "python",
   "pygments_lexer": "ipython3",
   "version": "3.7.3"
  }
 },
 "nbformat": 4,
 "nbformat_minor": 2
}
